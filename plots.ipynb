{
 "cells": [
  {
   "cell_type": "markdown",
   "id": "6c44d144",
   "metadata": {},
   "source": [
    "Routines for making plots etc. after ev_fit has been run"
   ]
  },
  {
   "cell_type": "code",
   "execution_count": 1,
   "id": "bccef64f",
   "metadata": {},
   "outputs": [],
   "source": [
    "from astropy.io import fits\n",
    "from astropy.table import Table\n",
    "import pandas as pd\n",
    "import matplotlib.pyplot as plt\n",
    "from PhD_Luminosity_function_final import *\n",
    "from evfit import *\n",
    "from simcat import *"
   ]
  },
  {
   "cell_type": "code",
   "execution_count": 24,
   "id": "499c663b",
   "metadata": {},
   "outputs": [],
   "source": [
    "def plot_res(infile='jswml_GII_sim_0.fits'):\n",
    "    \"\"\"Plot results from a single run of ev_fit.\"\"\"\n",
    "\n",
    "    dat = pickle.load(open(infile, 'rb'))\n",
    "    zstep = dat['zbin'][1] - dat['zbin'][0]\n",
    "    plt.clf()\n",
    "    ax = plt.subplot(311)\n",
    "    plt.cla()\n",
    "    ax.step(dat['zbin'], dat['delta'], where='mid')\n",
    "    ax.errorbar(dat['zbin'], dat['delta'], dat['delta_err'], fmt='none')\n",
    "    ax.bar(dat['zbin'] - 0.5*zstep, 2*np.sqrt(dat['den_var']), \n",
    "           width=zstep, bottom=dat['delta'] - np.sqrt(dat['den_var']), \n",
    "           alpha=0.1, ec='none')\n",
    "    ax.plot([dat['zbin'][0], dat['zbin'][-1]], [1.0, 1.0], ':')\n",
    "    ax.set_ylim(0, 5)\n",
    "    ax.set_xlabel('Redshift z')          \n",
    "    ax.set_ylabel(r'$\\Delta(z)$')\n",
    "    ax.text(0.1, 0.9, r'$P = {:4.2f},\\ Q = {:4.2f}$'.format(P, Q),\n",
    "            transform = ax.transAxes)\n",
    "\n",
    "    ax = plt.subplot(312)\n",
    "    plt.cla()\n",
    "    ax.errorbar(dat['Mbin'], dat['phi'], dat['phi_err'])\n",
    "    ax.set_xlabel(r'$M_r$')\n",
    "    ax.set_ylabel(r'$\\Phi(M_r)$')\n",
    "    ax.semilogy(base=10, nonpositive='clip')\n",
    "    ax.set_ylim(1e-6, 0.05)\n",
    "    plt.subplots_adjust(hspace=0.25)\n",
    "\n",
    "    extent = (Pmin, Pmax, Qmin, Qmax)\n",
    "    cmap = matplotlib.cm.jet\n",
    "    ax = plt.subplot(313)\n",
    "    im = ax.imshow(chi2grid, cmap=cmap, aspect='auto', origin='lower', \n",
    "                   extent=extent, interpolation='nearest')\n",
    "    cb = plt.colorbar(im, ax=ax)\n",
    "    (j, i) = np.unravel_index(np.argmin(chi2grid), chi2grid.shape)\n",
    "    P_maxl = Pmin + (i+0.5)*Pstep\n",
    "    Q_maxl = Qmin + (j+0.5)*Qstep\n",
    "    ax.plot(P_maxl, Q_maxl, '+')\n",
    "    ax.set_xlabel('P')\n",
    "    ax.set_ylabel('Q')\n",
    "    # Add contour at chi²_min + 4\n",
    "    chi2_min = chi2grid.min()\n",
    "    contour_level = chi2_min + 4\n",
    "    ax.contour(Pa, Qa, chi2grid, levels=[contour_level], colors='white')\n",
    "    plt.show()\n"
   ]
  },
  {
   "cell_type": "code",
   "execution_count": 25,
   "id": "49ea52c4",
   "metadata": {},
   "outputs": [
    {
     "ename": "KeyError",
     "evalue": "'zmin'",
     "output_type": "error",
     "traceback": [
      "\u001b[0;31m---------------------------------------------------------------------------\u001b[0m",
      "\u001b[0;31mKeyError\u001b[0m                                  Traceback (most recent call last)",
      "Cell \u001b[0;32mIn[25], line 1\u001b[0m\n\u001b[0;32m----> 1\u001b[0m \u001b[43mplot_res\u001b[49m\u001b[43m(\u001b[49m\u001b[43m)\u001b[49m\n",
      "Cell \u001b[0;32mIn[24], line 14\u001b[0m, in \u001b[0;36mplot_res\u001b[0;34m(infile)\u001b[0m\n\u001b[1;32m     10\u001b[0m ax\u001b[38;5;241m.\u001b[39merrorbar(dat[\u001b[38;5;124m'\u001b[39m\u001b[38;5;124mzbin\u001b[39m\u001b[38;5;124m'\u001b[39m], dat[\u001b[38;5;124m'\u001b[39m\u001b[38;5;124mdelta\u001b[39m\u001b[38;5;124m'\u001b[39m], dat[\u001b[38;5;124m'\u001b[39m\u001b[38;5;124mdelta_err\u001b[39m\u001b[38;5;124m'\u001b[39m], fmt\u001b[38;5;241m=\u001b[39m\u001b[38;5;124m'\u001b[39m\u001b[38;5;124mnone\u001b[39m\u001b[38;5;124m'\u001b[39m)\n\u001b[1;32m     11\u001b[0m ax\u001b[38;5;241m.\u001b[39mbar(dat[\u001b[38;5;124m'\u001b[39m\u001b[38;5;124mzbin\u001b[39m\u001b[38;5;124m'\u001b[39m] \u001b[38;5;241m-\u001b[39m \u001b[38;5;241m0.5\u001b[39m\u001b[38;5;241m*\u001b[39mzstep, \u001b[38;5;241m2\u001b[39m\u001b[38;5;241m*\u001b[39mnp\u001b[38;5;241m.\u001b[39msqrt(dat[\u001b[38;5;124m'\u001b[39m\u001b[38;5;124mden_var\u001b[39m\u001b[38;5;124m'\u001b[39m]), \n\u001b[1;32m     12\u001b[0m        width\u001b[38;5;241m=\u001b[39mzstep, bottom\u001b[38;5;241m=\u001b[39mdat[\u001b[38;5;124m'\u001b[39m\u001b[38;5;124mdelta\u001b[39m\u001b[38;5;124m'\u001b[39m] \u001b[38;5;241m-\u001b[39m np\u001b[38;5;241m.\u001b[39msqrt(dat[\u001b[38;5;124m'\u001b[39m\u001b[38;5;124mden_var\u001b[39m\u001b[38;5;124m'\u001b[39m]), \n\u001b[1;32m     13\u001b[0m        alpha\u001b[38;5;241m=\u001b[39m\u001b[38;5;241m0.1\u001b[39m, ec\u001b[38;5;241m=\u001b[39m\u001b[38;5;124m'\u001b[39m\u001b[38;5;124mnone\u001b[39m\u001b[38;5;124m'\u001b[39m)\n\u001b[0;32m---> 14\u001b[0m ax\u001b[38;5;241m.\u001b[39mplot([\u001b[43mdat\u001b[49m\u001b[43m[\u001b[49m\u001b[38;5;124;43m'\u001b[39;49m\u001b[38;5;124;43mzmin\u001b[39;49m\u001b[38;5;124;43m'\u001b[39;49m\u001b[43m]\u001b[49m, dat[\u001b[38;5;124m'\u001b[39m\u001b[38;5;124mzmax\u001b[39m\u001b[38;5;124m'\u001b[39m]], [\u001b[38;5;241m1.0\u001b[39m, \u001b[38;5;241m1.0\u001b[39m], \u001b[38;5;124m'\u001b[39m\u001b[38;5;124m:\u001b[39m\u001b[38;5;124m'\u001b[39m)\n\u001b[1;32m     15\u001b[0m ax\u001b[38;5;241m.\u001b[39mset_ylim(\u001b[38;5;241m0\u001b[39m, \u001b[38;5;241m5\u001b[39m)\n\u001b[1;32m     16\u001b[0m ax\u001b[38;5;241m.\u001b[39mset_xlabel(\u001b[38;5;124m'\u001b[39m\u001b[38;5;124mRedshift z\u001b[39m\u001b[38;5;124m'\u001b[39m)          \n",
      "\u001b[0;31mKeyError\u001b[0m: 'zmin'"
     ]
    },
    {
     "data": {
      "image/png": "[encoded data removed]",
      "text/plain": [
       "<Figure size 640x480 with 1 Axes>"
      ]
     },
     "metadata": {},
     "output_type": "display_data"
    }
   ],
   "source": [
    "plot_res()"
   ]
  },
  {
   "cell_type": "code",
   "execution_count": 9,
   "id": "1c3c36db",
   "metadata": {},
   "outputs": [],
   "source": [
    "def sim_av(evroot='jswml_GII_sim_{}.fits', sims=[0,1,2,3,6,7],\n",
    "        out_file='sim_table.tex'):\n",
    "    \"\"\"Average results from simulations.\"\"\"\n",
    "\n",
    "    nsim = len(sims)\n",
    "    alpha = np.zeros(nsim)\n",
    "    Mstar = np.zeros(nsim)\n",
    "    lpstar = np.zeros(nsim)\n",
    "    P = np.zeros(nsim)\n",
    "    Q = np.zeros(nsim)\n",
    "    delta = []\n",
    "    delta_err = []\n",
    "    den_var = []\n",
    "    phi = []\n",
    "    phi_err = []\n",
    "    for i, isim in zip(range(nsim), sims):\n",
    "        infile = evroot.format(isim)\n",
    "        dat = pickle.load(open(infile, 'rb'))\n",
    "        P[i] = dat['P']\n",
    "        Q[i] = dat['Q']\n",
    "        zbin = dat['zbin']\n",
    "        delta.append(dat['delta'])\n",
    "        delta_err.append(dat['delta_err'])\n",
    "        den_var.append(dat['den_var'])\n",
    "        alpha[i] = dat['alpha']\n",
    "        Mstar[i] = dat['Mstar']\n",
    "        lpstar[i] = dat['lpstar']\n",
    "        Mbin = dat['Mbin']\n",
    "        phi.append(dat['phi'])\n",
    "        phi_err.append(dat['phi_err'])\n",
    "\n",
    "    print('  alpha {:6.2f} +/- {:6.2f}'.format(np.mean(alpha), np.std(alpha)))\n",
    "    print('     M* {:6.2f} +/- {:6.2f}'.format(np.mean(Mstar), np.std(Mstar)))\n",
    "    print('lg phi* {:6.2f} +/- {:6.2f}'.format(np.mean(lpstar), np.std(lpstar)))\n",
    "    print('      P {:6.2f} +/- {:6.2f}'.format(np.mean(P), np.std(P)))\n",
    "    print('      Q {:6.2f} +/- {:6.2f}'.format(np.mean(Q), np.std(Q)))\n",
    "    print('cov(Q,P) ', np.cov(Q, P))\n",
    "    plt.clf()\n",
    "    ax = plt.subplot(211)\n",
    "    ax.errorbar(zbin, np.mean(delta, axis=0), np.std(delta, axis=0), fmt='none')\n",
    "    ax.errorbar(zbin, np.mean(delta, axis=0), np.mean(delta_err, axis=0), fmt='none')\n",
    "    dz = zbin[1] - zbin[0]\n",
    "    den_sig = np.sqrt(np.mean(den_var, axis=0))\n",
    "    ax.bar(zbin - 0.5*dz, 2*den_sig, width=dz, \n",
    "            bottom=np.mean(delta, axis=0)-den_sig, alpha=0.1, ec='none')\n",
    "    ax.plot([zbin[0], zbin[-1]], [1.0, 1.0], ':')\n",
    "    ax.set_xlabel('Redshift z')          \n",
    "    ax.set_ylabel(r'$\\Delta(z)$')\n",
    "    ax.set_ylim(0.3, 1.7)\n",
    "    ax = plt.subplot(212)\n",
    "    ax.axis([dat['Mmin'], dat['Mmax'], 2e-7, 1])\n",
    "    ax.semilogy(basey=10, nonposy='clip')\n",
    "    ax.errorbar(Mbin, np.mean(phi, axis=0), np.std(phi, axis=0), fmt='none')\n",
    "    ax.errorbar(Mbin, np.mean(phi, axis=0), np.mean(phi_err, axis=0), fmt='none')\n",
    "    label = plot_label(dat['param'])[1]\n",
    "    ax.set_xlabel(label)\n",
    "    ax.set_ylabel(r'$\\Phi(M) / h^3 {\\rm Mpc}^{-3}$')\n",
    "    plt.show()\n"
   ]
  },
  {
   "cell_type": "code",
   "execution_count": 16,
   "id": "a4677db3",
   "metadata": {},
   "outputs": [],
   "source": [
    "def gridplot_av(filenames=('jswml_GII_sim_{}.fits',), sims=[0,1,2,3,6,7],\n",
    "                label=('LF-redshift',)):\n",
    "    \"\"\"Average of multiple chi-squared grids.\"\"\"\n",
    "    nsim = len(sims)\n",
    "    P = np.zeros(nsim)\n",
    "    Q = np.zeros(nsim)\n",
    "    plt.clf()\n",
    "    nplot = len(filenames)\n",
    "    for iplot in range(nplot):\n",
    "        ax = plt.subplot(nplot+1, 1, iplot+1)\n",
    "        first = True\n",
    "\n",
    "        for i, isim in zip(range(nsim), sims):\n",
    "            infile = filenames[iplot].format(isim)\n",
    "            dat = pickle.load(open(infile, 'rb'))\n",
    "\n",
    "            chi2grid = dat['chi2grid']\n",
    "            if first:\n",
    "                chi2av = chi2grid\n",
    "                first = False\n",
    "            else:\n",
    "                chi2av += chi2grid\n",
    "\n",
    "            Qmin = dat['Qbins'][0]\n",
    "            Qmax = dat['Qbins'][1]\n",
    "            nQ = dat['Qbins'][2]\n",
    "            Qstep = float(Qmax - Qmin)/nQ\n",
    "            Pmin = dat['Pbins'][0]\n",
    "            Pmax = dat['Pbins'][1]\n",
    "            nP = dat['Pbins'][2]\n",
    "            Pstep = float(Pmax - Pmin)/nP\n",
    "            (iq, ip) = np.unravel_index(np.argmin(chi2grid), chi2grid.shape)\n",
    "            P[i] = Pmin + (ip+0.5)*Pstep\n",
    "            Q[i] = Qmin + (iq+0.5)*Qstep\n",
    "\n",
    "            extent = (Pmin, Pmax, Qmin, Qmax)\n",
    "            chi2min = np.min(chi2grid)\n",
    "            ax.contour(chi2grid, (chi2min+4, ), # colors=('k'),\n",
    "                       origin='lower', extent=extent,\n",
    "                       linewidths=0.2)\n",
    "\n",
    "        chi2av /= nsim\n",
    "        chi2min = np.min(chi2av)\n",
    "        ax.contour(chi2av, (chi2min+4, ), colors=('k'),\n",
    "                   origin='lower', extent=extent)\n",
    "        ax.errorbar(P.mean(), Q.mean(), xerr=P.std(), yerr=Q.std())\n",
    "        ax.text(0.7, 0.9, label[iplot], transform=ax.transAxes)\n",
    "        ax.set_ylabel(r'$Q_e\\ ({\\rm mag})$')\n",
    "        print('min chi^2 (P,Q) = ({} +- {}, {} +- {})'.format(\n",
    "            P.mean(), P.std(), Q.mean(), Q.std()))\n",
    "    ax.set_xlabel(r'$P_e$')\n",
    "    plt.subplots_adjust(hspace=0.0)\n",
    "    plt.show()\n"
   ]
  },
  {
   "cell_type": "code",
   "execution_count": 2,
   "id": "2f39ec8c",
   "metadata": {},
   "outputs": [
    {
     "name": "stdout",
     "output_type": "stream",
     "text": [
      "/Users/loveday/Data/gama/jswml_adrien\n"
     ]
    }
   ],
   "source": [
    "cd /Users/loveday/Data/gama/jswml_adrien"
   ]
  },
  {
   "cell_type": "code",
   "execution_count": 17,
   "id": "a8dd3697",
   "metadata": {},
   "outputs": [
    {
     "name": "stdout",
     "output_type": "stream",
     "text": [
      "min chi^2 (P,Q) = (2.016666666666667 +- 0.3771236166328254, 0.5833333333333334 +- 0.19454362549881252)\n"
     ]
    },
    {
     "name": "stderr",
     "output_type": "stream",
     "text": [
      "/var/folders/jc/c3mhzns92bs5g27hq991w1g40000gp/T/ipykernel_34238/349379695.py:44: UserWarning: The following kwargs were not used by contour: 'aspect'\n",
      "  ax.contour(chi2av, (chi2min+4, ), colors=('k'),\n"
     ]
    },
    {
     "data": {
      "image/png": "[encoded data removed]",
      "text/plain": [
       "<Figure size 640x480 with 1 Axes>"
      ]
     },
     "metadata": {},
     "output_type": "display_data"
    }
   ],
   "source": [
    "gridplot_av()"
   ]
  },
  {
   "cell_type": "code",
   "execution_count": 13,
   "id": "6174b47f",
   "metadata": {},
   "outputs": [
    {
     "name": "stdout",
     "output_type": "stream",
     "text": [
      "> \u001b[0;32m/var/folders/jc/c3mhzns92bs5g27hq991w1g40000gp/T/ipykernel_34238/4203171006.py\u001b[0m(14)\u001b[0;36mgridplot_av\u001b[0;34m()\u001b[0m\n",
      "\u001b[0;32m     12 \u001b[0;31m\u001b[0;34m\u001b[0m\u001b[0m\n",
      "\u001b[0m\u001b[0;32m     13 \u001b[0;31m        \u001b[0;32mfor\u001b[0m \u001b[0mi\u001b[0m\u001b[0;34m,\u001b[0m \u001b[0misim\u001b[0m \u001b[0;32min\u001b[0m \u001b[0mzip\u001b[0m\u001b[0;34m(\u001b[0m\u001b[0mrange\u001b[0m\u001b[0;34m(\u001b[0m\u001b[0mnsim\u001b[0m\u001b[0;34m)\u001b[0m\u001b[0;34m,\u001b[0m \u001b[0msims\u001b[0m\u001b[0;34m)\u001b[0m\u001b[0;34m:\u001b[0m\u001b[0;34m\u001b[0m\u001b[0;34m\u001b[0m\u001b[0m\n",
      "\u001b[0m\u001b[0;32m---> 14 \u001b[0;31m            \u001b[0minfile\u001b[0m \u001b[0;34m=\u001b[0m \u001b[0mfilenames\u001b[0m\u001b[0;34m[\u001b[0m\u001b[0miplot\u001b[0m\u001b[0;34m]\u001b[0m\u001b[0;34m.\u001b[0m\u001b[0mformat\u001b[0m\u001b[0;34m(\u001b[0m\u001b[0msims\u001b[0m\u001b[0;34m[\u001b[0m\u001b[0misim\u001b[0m\u001b[0;34m]\u001b[0m\u001b[0;34m)\u001b[0m\u001b[0;34m\u001b[0m\u001b[0;34m\u001b[0m\u001b[0m\n",
      "\u001b[0m\u001b[0;32m     15 \u001b[0;31m            \u001b[0mdat\u001b[0m \u001b[0;34m=\u001b[0m \u001b[0mpickle\u001b[0m\u001b[0;34m.\u001b[0m\u001b[0mload\u001b[0m\u001b[0;34m(\u001b[0m\u001b[0mopen\u001b[0m\u001b[0;34m(\u001b[0m\u001b[0minfile\u001b[0m\u001b[0;34m,\u001b[0m \u001b[0;34m'rb'\u001b[0m\u001b[0;34m)\u001b[0m\u001b[0;34m)\u001b[0m\u001b[0;34m\u001b[0m\u001b[0;34m\u001b[0m\u001b[0m\n",
      "\u001b[0m\u001b[0;32m     16 \u001b[0;31m\u001b[0;34m\u001b[0m\u001b[0m\n",
      "\u001b[0m\n",
      "0\n",
      "6\n",
      "('jswml_GII_sim_{}.fits',)\n",
      "'jswml_GII_sim_{}.fits'\n"
     ]
    }
   ],
   "source": [
    "pdb.pm()\n"
   ]
  },
  {
   "cell_type": "code",
   "execution_count": null,
   "id": "43a3b97f",
   "metadata": {},
   "outputs": [],
   "source": []
  }
 ],
 "metadata": {
  "kernelspec": {
   "display_name": "Python 3 (ipykernel)",
   "language": "python",
   "name": "python3"
  },
  "language_info": {
   "codemirror_mode": {
    "name": "ipython",
    "version": 3
   },
   "file_extension": ".py",
   "mimetype": "text/x-python",
   "name": "python",
   "nbconvert_exporter": "python",
   "pygments_lexer": "ipython3",
   "version": "3.9.12"
  }
 },
 "nbformat": 4,
 "nbformat_minor": 5
}
